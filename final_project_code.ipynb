{
 "cells": [
  {
   "cell_type": "code",
   "execution_count": 20,
   "id": "0164c12b",
   "metadata": {},
   "outputs": [],
   "source": [
    "import numpy as np\n",
    "import pandas as pd\n",
    "from sklearn.svm import SVC\n",
    "from sklearn.ensemble import RandomForestClassifier\n",
    "from sklearn.linear_model import LogisticRegression\n",
    "from sklearn.neighbors import KNeighborsClassifier\n",
    "from sklearn.neural_network import MLPClassifier\n",
    "from sklearn.model_selection import GridSearchCV, train_test_split\n",
    "from sklearn.metrics import accuracy_score\n",
    "from ucimlrepo import fetch_ucirepo\n",
    "import random"
   ]
  },
  {
   "cell_type": "markdown",
   "id": "e55acb73",
   "metadata": {},
   "source": [
    "## Download Data"
   ]
  },
  {
   "cell_type": "markdown",
   "id": "b4d7667e",
   "metadata": {},
   "source": [
    "### Bank Marketing"
   ]
  },
  {
   "cell_type": "code",
   "execution_count": 2,
   "id": "dfd0b3b4",
   "metadata": {},
   "outputs": [],
   "source": [
    "bank_marketing = fetch_ucirepo(id=222)\n",
    "X_bm = bank_marketing.data.features\n",
    "Y_bm = bank_marketing.data.targets"
   ]
  },
  {
   "cell_type": "markdown",
   "id": "b741b29d",
   "metadata": {},
   "source": [
    "### Adult Income"
   ]
  },
  {
   "cell_type": "code",
   "execution_count": 3,
   "id": "4aeef3d4",
   "metadata": {},
   "outputs": [],
   "source": [
    "adult = fetch_ucirepo(id=2)\n",
    "X_adult = adult.data.features\n",
    "Y_adult = adult.data.targets"
   ]
  },
  {
   "cell_type": "markdown",
   "id": "0cdf693b",
   "metadata": {},
   "source": [
    "### Skin Segmentation"
   ]
  },
  {
   "cell_type": "code",
   "execution_count": 4,
   "id": "fa48e5ba",
   "metadata": {},
   "outputs": [],
   "source": [
    "skin_segmentation = fetch_ucirepo(id=229) \n",
    "X_sk = skin_segmentation.data.features \n",
    "Y_sk = skin_segmentation.data.targets"
   ]
  },
  {
   "cell_type": "markdown",
   "id": "6adb7af9",
   "metadata": {},
   "source": [
    "### Credit Card Defaults"
   ]
  },
  {
   "cell_type": "code",
   "execution_count": 5,
   "id": "5726e0cb",
   "metadata": {},
   "outputs": [],
   "source": [
    "default_of_credit_card_clients = fetch_ucirepo(id=350) \n",
    "X_cc = default_of_credit_card_clients.data.features \n",
    "Y_cc = default_of_credit_card_clients.data.targets"
   ]
  },
  {
   "cell_type": "markdown",
   "id": "5372ac57",
   "metadata": {},
   "source": [
    "## Clean the Data"
   ]
  },
  {
   "cell_type": "markdown",
   "id": "8b9c526e",
   "metadata": {},
   "source": [
    "### Bank Marketing"
   ]
  },
  {
   "cell_type": "code",
   "execution_count": 6,
   "id": "03c63e7c",
   "metadata": {},
   "outputs": [
    {
     "data": {
      "text/plain": [
       "array([[  58, 2143,    5, ...,    0,    0,    1],\n",
       "       [  44,   29,    5, ...,    0,    0,    1],\n",
       "       [  33,    2,    5, ...,    0,    0,    1],\n",
       "       ...,\n",
       "       [  72, 5715,   17, ...,    0,    1,    0],\n",
       "       [  57,  668,   17, ...,    0,    0,    1],\n",
       "       [  37, 2971,   17, ...,    1,    0,    0]])"
      ]
     },
     "execution_count": 6,
     "metadata": {},
     "output_type": "execute_result"
    }
   ],
   "source": [
    "X_bm = X_bm.fillna('unknown')\n",
    "X_bm = pd.get_dummies(X_bm, columns=X_bm.select_dtypes(include=['object']).columns).astype(int)\n",
    "X_bm = X_bm.to_numpy()\n",
    "X_bm"
   ]
  },
  {
   "cell_type": "code",
   "execution_count": 27,
   "id": "b54f4e15",
   "metadata": {},
   "outputs": [
    {
     "data": {
      "text/plain": [
       "array([[  58, 2143,    5, ...,    0,    0,    1],\n",
       "       [  58, 2143,    5, ...,    0,    0,    1],\n",
       "       [  44,   29,    5, ...,    0,    0,    1],\n",
       "       ...,\n",
       "       [  53,  315,    5, ...,    0,    0,    1],\n",
       "       [  29,  220,    4, ...,    0,    0,    1],\n",
       "       [  55,    0,    5, ...,    0,    0,    1]])"
      ]
     },
     "execution_count": 27,
     "metadata": {},
     "output_type": "execute_result"
    }
   ],
   "source": [
    "X_bm_short = X_bm[:10000]\n",
    "X_bm_short"
   ]
  },
  {
   "cell_type": "code",
   "execution_count": 7,
   "id": "f4ee6a8c",
   "metadata": {},
   "outputs": [
    {
     "data": {
      "text/plain": [
       "array([[0],\n",
       "       [0],\n",
       "       [0],\n",
       "       ...,\n",
       "       [1],\n",
       "       [0],\n",
       "       [0]])"
      ]
     },
     "execution_count": 7,
     "metadata": {},
     "output_type": "execute_result"
    }
   ],
   "source": [
    "Y_bm.loc[:, 'y'] = Y_bm['y'].map({'yes': 1, 'no': 0})\n",
    "Y_bm = Y_bm.to_numpy().astype(int)\n",
    "Y_bm"
   ]
  },
  {
   "cell_type": "code",
   "execution_count": 30,
   "id": "2e025a41",
   "metadata": {},
   "outputs": [],
   "source": [
    "Y_bm_short = Y_bm[:10000]"
   ]
  },
  {
   "cell_type": "markdown",
   "id": "f086e963",
   "metadata": {},
   "source": [
    "### Adult Income"
   ]
  },
  {
   "cell_type": "code",
   "execution_count": 8,
   "id": "b5be5dfa",
   "metadata": {},
   "outputs": [
    {
     "data": {
      "text/plain": [
       "array([[    39,  77516,     13, ...,      1,      0,      0],\n",
       "       [    50,  83311,     13, ...,      1,      0,      0],\n",
       "       [    38, 215646,      9, ...,      1,      0,      0],\n",
       "       ...,\n",
       "       [    38, 374983,     13, ...,      1,      0,      0],\n",
       "       [    44,  83891,     13, ...,      1,      0,      0],\n",
       "       [    35, 182148,     13, ...,      1,      0,      0]])"
      ]
     },
     "execution_count": 8,
     "metadata": {},
     "output_type": "execute_result"
    }
   ],
   "source": [
    "X_adult = X_adult.dropna()\n",
    "X_adult = pd.get_dummies(X_adult, columns=X_adult.select_dtypes(include=['object']).columns).astype(int)\n",
    "X_adult = X_adult.to_numpy()\n",
    "X_adult"
   ]
  },
  {
   "cell_type": "code",
   "execution_count": 31,
   "id": "2e523b3f",
   "metadata": {},
   "outputs": [],
   "source": [
    "X_adult_short = X_adult[:10000]"
   ]
  },
  {
   "cell_type": "code",
   "execution_count": 9,
   "id": "1adf22a8",
   "metadata": {},
   "outputs": [
    {
     "data": {
      "text/plain": [
       "array([[0],\n",
       "       [0],\n",
       "       [0],\n",
       "       ...,\n",
       "       [0],\n",
       "       [0],\n",
       "       [1]])"
      ]
     },
     "execution_count": 9,
     "metadata": {},
     "output_type": "execute_result"
    }
   ],
   "source": [
    "Y_adult.loc[:, 'income'] = Y_adult['income'].map({'<=50K': 0, '<=50K.': 0, '>50K.': 1, '>50K': 1})\n",
    "Y_adult = Y_adult.to_numpy().astype(int)\n",
    "Y_adult"
   ]
  },
  {
   "cell_type": "code",
   "execution_count": 32,
   "id": "8fc421e0",
   "metadata": {},
   "outputs": [],
   "source": [
    "Y_adult_short = Y_adult[:10000]"
   ]
  },
  {
   "cell_type": "markdown",
   "id": "c8ed0c64",
   "metadata": {},
   "source": [
    "### Skin Segmentation"
   ]
  },
  {
   "cell_type": "code",
   "execution_count": 10,
   "id": "1b0afd1d",
   "metadata": {},
   "outputs": [
    {
     "data": {
      "text/plain": [
       "array([[ 74,  85, 123],\n",
       "       [ 73,  84, 122],\n",
       "       [ 72,  83, 121],\n",
       "       ...,\n",
       "       [163, 162, 112],\n",
       "       [163, 162, 112],\n",
       "       [255, 255, 255]])"
      ]
     },
     "execution_count": 10,
     "metadata": {},
     "output_type": "execute_result"
    }
   ],
   "source": [
    "X_sk = X_sk.to_numpy()\n",
    "X_sk"
   ]
  },
  {
   "cell_type": "code",
   "execution_count": 33,
   "id": "2215080a",
   "metadata": {},
   "outputs": [],
   "source": [
    "X_sk_short = X_sk[:10000]"
   ]
  },
  {
   "cell_type": "code",
   "execution_count": 11,
   "id": "d3e89e84",
   "metadata": {},
   "outputs": [
    {
     "data": {
      "text/plain": [
       "array([[0],\n",
       "       [0],\n",
       "       [0],\n",
       "       ...,\n",
       "       [1],\n",
       "       [1],\n",
       "       [1]])"
      ]
     },
     "execution_count": 11,
     "metadata": {},
     "output_type": "execute_result"
    }
   ],
   "source": [
    "Y_sk.loc[:, 'y'] = Y_sk['y'].map({1: 0, 2: 1})\n",
    "Y_sk = Y_sk.to_numpy().astype(int)\n",
    "Y_sk"
   ]
  },
  {
   "cell_type": "code",
   "execution_count": 34,
   "id": "b592658f",
   "metadata": {},
   "outputs": [],
   "source": [
    "Y_sk_short = Y_sk[:10000]"
   ]
  },
  {
   "cell_type": "markdown",
   "id": "99249228",
   "metadata": {},
   "source": [
    "### Credit Card Defaults"
   ]
  },
  {
   "cell_type": "code",
   "execution_count": 12,
   "id": "fd0db9d9",
   "metadata": {},
   "outputs": [
    {
     "data": {
      "text/plain": [
       "array([[ 20000,      2,      2, ...,      0,      0,      0],\n",
       "       [120000,      2,      2, ...,   1000,      0,   2000],\n",
       "       [ 90000,      2,      2, ...,   1000,   1000,   5000],\n",
       "       ...,\n",
       "       [ 30000,      1,      2, ...,   4200,   2000,   3100],\n",
       "       [ 80000,      1,      3, ...,   1926,  52964,   1804],\n",
       "       [ 50000,      1,      2, ...,   1000,   1000,   1000]])"
      ]
     },
     "execution_count": 12,
     "metadata": {},
     "output_type": "execute_result"
    }
   ],
   "source": [
    "X_cc = X_cc.to_numpy()\n",
    "X_cc"
   ]
  },
  {
   "cell_type": "code",
   "execution_count": 35,
   "id": "4a760daf",
   "metadata": {},
   "outputs": [],
   "source": [
    "X_cc_short = X_cc[:10000]"
   ]
  },
  {
   "cell_type": "code",
   "execution_count": 13,
   "id": "4a92ed4b",
   "metadata": {},
   "outputs": [
    {
     "data": {
      "text/plain": [
       "array([[1],\n",
       "       [1],\n",
       "       [0],\n",
       "       ...,\n",
       "       [1],\n",
       "       [1],\n",
       "       [1]])"
      ]
     },
     "execution_count": 13,
     "metadata": {},
     "output_type": "execute_result"
    }
   ],
   "source": [
    "Y_cc = Y_cc.to_numpy().astype(int)\n",
    "Y_cc"
   ]
  },
  {
   "cell_type": "code",
   "execution_count": 36,
   "id": "6e6767c7",
   "metadata": {},
   "outputs": [],
   "source": [
    "Y_cc_short = Y_cc[:10000]"
   ]
  },
  {
   "cell_type": "markdown",
   "id": "5a8a5516",
   "metadata": {},
   "source": [
    "## Create Model"
   ]
  },
  {
   "cell_type": "code",
   "execution_count": 37,
   "id": "61e13435",
   "metadata": {},
   "outputs": [],
   "source": [
    "datasets = {\n",
    "    'bm': (X_bm_short, Y_bm_short),\n",
    "    'adult': (X_adult_short, Y_adult_short),\n",
    "    'sk': (X_sk_short, Y_sk_short),\n",
    "    'cc': (X_cc_short, Y_cc_short)\n",
    "}"
   ]
  },
  {
   "cell_type": "code",
   "execution_count": 46,
   "id": "3d5f1355",
   "metadata": {},
   "outputs": [],
   "source": [
    "classifiers = {\n",
    "    'SVM': {\n",
    "        'model': SVC(),\n",
    "        'param_grid': {\n",
    "            'kernel': ['linear', 'rbf'],\n",
    "            'C': [0.1, 1],\n",
    "            'gamma': [0.001, 0.01],\n",
    "        },\n",
    "    },\n",
    "    'Neural Network': {\n",
    "        'model': MLPClassifier(max_iter=1000),\n",
    "        'param_grid': {\n",
    "            'hidden_layer_sizes': [(50,), (100,), (50, 50)],\n",
    "            'activation': ['relu', 'tanh'],\n",
    "            'alpha': [0.0001, 0.001],\n",
    "            'learning_rate': ['constant'],\n",
    "        },\n",
    "    },\n",
    "    'Logistic Regression': {\n",
    "        'model': LogisticRegression(max_iter=1000),\n",
    "        'param_grid': {\n",
    "            'C': [0.01, 0.1, 1],\n",
    "            'penalty': ['l2'],\n",
    "        },\n",
    "    },\n",
    "    'KNN': {\n",
    "        'model': KNeighborsClassifier(),\n",
    "        'param_grid': {\n",
    "            'n_neighbors': [3, 5, 10],\n",
    "            'weights': ['uniform', 'distance'],\n",
    "        },\n",
    "    },\n",
    "    'Random Forest': {\n",
    "        'model': RandomForestClassifier(),\n",
    "        'param_grid': {\n",
    "            'n_estimators': [50, 100, 200],\n",
    "            'max_depth': [None, 10, 20],\n",
    "            'min_samples_split': [2, 5],\n",
    "        },\n",
    "    },\n",
    "}"
   ]
  },
  {
   "cell_type": "code",
   "execution_count": 47,
   "id": "965f475e",
   "metadata": {},
   "outputs": [],
   "source": [
    "partitions = {\n",
    "    '20/80': 0.8,\n",
    "    '50/50': 0.5,\n",
    "    '80/20': 0.2\n",
    "}"
   ]
  },
  {
   "cell_type": "code",
   "execution_count": 95,
   "id": "3d499bda",
   "metadata": {
    "scrolled": true
   },
   "outputs": [
    {
     "data": {
      "text/plain": [
       "(30000,)"
      ]
     },
     "execution_count": 95,
     "metadata": {},
     "output_type": "execute_result"
    }
   ],
   "source": [
    "Y_cc.shape\n",
    "\n",
    "Y_ccc = Y_cc.ravel()\n",
    "Y_ccc.shape"
   ]
  },
  {
   "cell_type": "code",
   "execution_count": 104,
   "id": "75000c61",
   "metadata": {},
   "outputs": [],
   "source": [
    "X_bm = X_bm.to_numpy()"
   ]
  },
  {
   "cell_type": "code",
   "execution_count": 108,
   "id": "c82abb95",
   "metadata": {},
   "outputs": [],
   "source": [
    "Y_bm = Y_bm.astype(int)"
   ]
  },
  {
   "cell_type": "code",
   "execution_count": 48,
   "id": "c716a406",
   "metadata": {
    "scrolled": false
   },
   "outputs": [
    {
     "name": "stdout",
     "output_type": "stream",
     "text": [
      "Processing: bm, Classifier: SVM, Partition: 20/80\n",
      "Fitting 3 folds for each of 8 candidates, totalling 24 fits\n",
      "[CV] END .....................C=0.1, gamma=0.001, kernel=rbf; total time=   0.2s\n",
      "[CV] END ....................C=1, gamma=0.001, kernel=linear; total time= 9.6min\n",
      "[CV] END ........................C=1, gamma=0.01, kernel=rbf; total time=   0.3s\n",
      "[CV] END ........................C=1, gamma=0.01, kernel=rbf; total time=   0.3s\n",
      "[CV] END ......................C=0.1, gamma=0.01, kernel=rbf; total time=   0.3s\n",
      "[CV] END .......................C=1, gamma=0.001, kernel=rbf; total time=   0.2s\n",
      "[CV] END .....................C=1, gamma=0.01, kernel=linear; total time= 9.6min\n",
      "[CV] END ........................C=1, gamma=0.01, kernel=rbf; total time=   0.3s\n",
      "[CV] END .....................C=0.1, gamma=0.001, kernel=rbf; total time=   0.2s\n",
      "[CV] END ....................C=1, gamma=0.001, kernel=linear; total time=10.9min\n",
      "[CV] END ......................C=0.1, gamma=0.01, kernel=rbf; total time=   0.3s\n",
      "[CV] END .......................C=1, gamma=0.001, kernel=rbf; total time=   0.2s\n",
      "[CV] END .....................C=1, gamma=0.01, kernel=linear; total time=10.9min\n",
      "[CV] END ...................C=0.1, gamma=0.01, kernel=linear; total time=10.9min\n",
      "[CV] END ..................C=0.1, gamma=0.001, kernel=linear; total time=10.9min\n",
      "[CV] END ..................C=0.1, gamma=0.001, kernel=linear; total time=11.3min\n",
      "[CV] END ...................C=0.1, gamma=0.01, kernel=linear; total time=11.3min\n",
      "[CV] END .....................C=0.1, gamma=0.001, kernel=rbf; total time=   0.2s\n",
      "[CV] END ....................C=1, gamma=0.001, kernel=linear; total time=11.8min\n",
      "[CV] END ......................C=0.1, gamma=0.01, kernel=rbf; total time=   0.3s\n",
      "[CV] END .......................C=1, gamma=0.001, kernel=rbf; total time=   0.2s\n",
      "[CV] END .....................C=1, gamma=0.01, kernel=linear; total time=11.8min\n",
      "[CV] END ..................C=0.1, gamma=0.001, kernel=linear; total time=12.5min\n",
      "[CV] END ...................C=0.1, gamma=0.01, kernel=linear; total time=12.5min\n",
      "Processing: bm, Classifier: Neural Network, Partition: 20/80\n",
      "Fitting 3 folds for each of 12 candidates, totalling 36 fits\n",
      "Processing: bm, Classifier: Logistic Regression, Partition: 20/80\n",
      "Fitting 3 folds for each of 3 candidates, totalling 9 fits\n"
     ]
    },
    {
     "name": "stderr",
     "output_type": "stream",
     "text": [
      "/opt/anaconda3/lib/python3.9/site-packages/sklearn/linear_model/_logistic.py:469: ConvergenceWarning: lbfgs failed to converge (status=1):\n",
      "STOP: TOTAL NO. of ITERATIONS REACHED LIMIT.\n",
      "\n",
      "Increase the number of iterations (max_iter) or scale the data as shown in:\n",
      "    https://scikit-learn.org/stable/modules/preprocessing.html\n",
      "Please also refer to the documentation for alternative solver options:\n",
      "    https://scikit-learn.org/stable/modules/linear_model.html#logistic-regression\n",
      "  n_iter_i = _check_optimize_result(\n",
      "/opt/anaconda3/lib/python3.9/site-packages/sklearn/linear_model/_logistic.py:469: ConvergenceWarning: lbfgs failed to converge (status=1):\n",
      "STOP: TOTAL NO. of ITERATIONS REACHED LIMIT.\n",
      "\n",
      "Increase the number of iterations (max_iter) or scale the data as shown in:\n",
      "    https://scikit-learn.org/stable/modules/preprocessing.html\n",
      "Please also refer to the documentation for alternative solver options:\n",
      "    https://scikit-learn.org/stable/modules/linear_model.html#logistic-regression\n",
      "  n_iter_i = _check_optimize_result(\n",
      "/opt/anaconda3/lib/python3.9/site-packages/sklearn/linear_model/_logistic.py:469: ConvergenceWarning: lbfgs failed to converge (status=1):\n",
      "STOP: TOTAL NO. of ITERATIONS REACHED LIMIT.\n",
      "\n",
      "Increase the number of iterations (max_iter) or scale the data as shown in:\n",
      "    https://scikit-learn.org/stable/modules/preprocessing.html\n",
      "Please also refer to the documentation for alternative solver options:\n",
      "    https://scikit-learn.org/stable/modules/linear_model.html#logistic-regression\n",
      "  n_iter_i = _check_optimize_result(\n",
      "/opt/anaconda3/lib/python3.9/site-packages/sklearn/linear_model/_logistic.py:469: ConvergenceWarning: lbfgs failed to converge (status=1):\n",
      "STOP: TOTAL NO. of ITERATIONS REACHED LIMIT.\n",
      "\n",
      "Increase the number of iterations (max_iter) or scale the data as shown in:\n",
      "    https://scikit-learn.org/stable/modules/preprocessing.html\n",
      "Please also refer to the documentation for alternative solver options:\n",
      "    https://scikit-learn.org/stable/modules/linear_model.html#logistic-regression\n",
      "  n_iter_i = _check_optimize_result(\n",
      "/opt/anaconda3/lib/python3.9/site-packages/sklearn/linear_model/_logistic.py:469: ConvergenceWarning: lbfgs failed to converge (status=1):\n",
      "STOP: TOTAL NO. of ITERATIONS REACHED LIMIT.\n",
      "\n",
      "Increase the number of iterations (max_iter) or scale the data as shown in:\n",
      "    https://scikit-learn.org/stable/modules/preprocessing.html\n",
      "Please also refer to the documentation for alternative solver options:\n",
      "    https://scikit-learn.org/stable/modules/linear_model.html#logistic-regression\n",
      "  n_iter_i = _check_optimize_result(\n"
     ]
    },
    {
     "name": "stdout",
     "output_type": "stream",
     "text": [
      "Processing: bm, Classifier: KNN, Partition: 20/80\n",
      "Fitting 3 folds for each of 6 candidates, totalling 18 fits\n",
      "Processing: bm, Classifier: Random Forest, Partition: 20/80\n",
      "Fitting 3 folds for each of 18 candidates, totalling 54 fits\n"
     ]
    },
    {
     "ename": "KeyboardInterrupt",
     "evalue": "",
     "output_type": "error",
     "traceback": [
      "\u001b[0;31m---------------------------------------------------------------------------\u001b[0m",
      "\u001b[0;31mKeyboardInterrupt\u001b[0m                         Traceback (most recent call last)",
      "\u001b[0;32m/var/folders/3k/c988wmgn4wl5xt2wfmpwdlq40000gn/T/ipykernel_14786/145987604.py\u001b[0m in \u001b[0;36m<module>\u001b[0;34m\u001b[0m\n\u001b[1;32m     19\u001b[0m             )\n\u001b[1;32m     20\u001b[0m \u001b[0;34m\u001b[0m\u001b[0m\n\u001b[0;32m---> 21\u001b[0;31m             \u001b[0mgrid_search\u001b[0m\u001b[0;34m.\u001b[0m\u001b[0mfit\u001b[0m\u001b[0;34m(\u001b[0m\u001b[0mX_train\u001b[0m\u001b[0;34m,\u001b[0m \u001b[0my_train\u001b[0m\u001b[0;34m)\u001b[0m\u001b[0;34m\u001b[0m\u001b[0;34m\u001b[0m\u001b[0m\n\u001b[0m\u001b[1;32m     22\u001b[0m             \u001b[0mbest_model\u001b[0m \u001b[0;34m=\u001b[0m \u001b[0mgrid_search\u001b[0m\u001b[0;34m.\u001b[0m\u001b[0mbest_estimator_\u001b[0m\u001b[0;34m\u001b[0m\u001b[0;34m\u001b[0m\u001b[0m\n\u001b[1;32m     23\u001b[0m \u001b[0;34m\u001b[0m\u001b[0m\n",
      "\u001b[0;32m/opt/anaconda3/lib/python3.9/site-packages/sklearn/base.py\u001b[0m in \u001b[0;36mwrapper\u001b[0;34m(estimator, *args, **kwargs)\u001b[0m\n\u001b[1;32m   1471\u001b[0m                 )\n\u001b[1;32m   1472\u001b[0m             ):\n\u001b[0;32m-> 1473\u001b[0;31m                 \u001b[0;32mreturn\u001b[0m \u001b[0mfit_method\u001b[0m\u001b[0;34m(\u001b[0m\u001b[0mestimator\u001b[0m\u001b[0;34m,\u001b[0m \u001b[0;34m*\u001b[0m\u001b[0margs\u001b[0m\u001b[0;34m,\u001b[0m \u001b[0;34m**\u001b[0m\u001b[0mkwargs\u001b[0m\u001b[0;34m)\u001b[0m\u001b[0;34m\u001b[0m\u001b[0;34m\u001b[0m\u001b[0m\n\u001b[0m\u001b[1;32m   1474\u001b[0m \u001b[0;34m\u001b[0m\u001b[0m\n\u001b[1;32m   1475\u001b[0m         \u001b[0;32mreturn\u001b[0m \u001b[0mwrapper\u001b[0m\u001b[0;34m\u001b[0m\u001b[0;34m\u001b[0m\u001b[0m\n",
      "\u001b[0;32m/opt/anaconda3/lib/python3.9/site-packages/sklearn/model_selection/_search.py\u001b[0m in \u001b[0;36mfit\u001b[0;34m(self, X, y, **params)\u001b[0m\n\u001b[1;32m   1017\u001b[0m                 \u001b[0;32mreturn\u001b[0m \u001b[0mresults\u001b[0m\u001b[0;34m\u001b[0m\u001b[0;34m\u001b[0m\u001b[0m\n\u001b[1;32m   1018\u001b[0m \u001b[0;34m\u001b[0m\u001b[0m\n\u001b[0;32m-> 1019\u001b[0;31m             \u001b[0mself\u001b[0m\u001b[0;34m.\u001b[0m\u001b[0m_run_search\u001b[0m\u001b[0;34m(\u001b[0m\u001b[0mevaluate_candidates\u001b[0m\u001b[0;34m)\u001b[0m\u001b[0;34m\u001b[0m\u001b[0;34m\u001b[0m\u001b[0m\n\u001b[0m\u001b[1;32m   1020\u001b[0m \u001b[0;34m\u001b[0m\u001b[0m\n\u001b[1;32m   1021\u001b[0m             \u001b[0;31m# multimetric is determined here because in the case of a callable\u001b[0m\u001b[0;34m\u001b[0m\u001b[0;34m\u001b[0m\u001b[0m\n",
      "\u001b[0;32m/opt/anaconda3/lib/python3.9/site-packages/sklearn/model_selection/_search.py\u001b[0m in \u001b[0;36m_run_search\u001b[0;34m(self, evaluate_candidates)\u001b[0m\n\u001b[1;32m   1571\u001b[0m     \u001b[0;32mdef\u001b[0m \u001b[0m_run_search\u001b[0m\u001b[0;34m(\u001b[0m\u001b[0mself\u001b[0m\u001b[0;34m,\u001b[0m \u001b[0mevaluate_candidates\u001b[0m\u001b[0;34m)\u001b[0m\u001b[0;34m:\u001b[0m\u001b[0;34m\u001b[0m\u001b[0;34m\u001b[0m\u001b[0m\n\u001b[1;32m   1572\u001b[0m         \u001b[0;34m\"\"\"Search all candidates in param_grid\"\"\"\u001b[0m\u001b[0;34m\u001b[0m\u001b[0;34m\u001b[0m\u001b[0m\n\u001b[0;32m-> 1573\u001b[0;31m         \u001b[0mevaluate_candidates\u001b[0m\u001b[0;34m(\u001b[0m\u001b[0mParameterGrid\u001b[0m\u001b[0;34m(\u001b[0m\u001b[0mself\u001b[0m\u001b[0;34m.\u001b[0m\u001b[0mparam_grid\u001b[0m\u001b[0;34m)\u001b[0m\u001b[0;34m)\u001b[0m\u001b[0;34m\u001b[0m\u001b[0;34m\u001b[0m\u001b[0m\n\u001b[0m\u001b[1;32m   1574\u001b[0m \u001b[0;34m\u001b[0m\u001b[0m\n\u001b[1;32m   1575\u001b[0m \u001b[0;34m\u001b[0m\u001b[0m\n",
      "\u001b[0;32m/opt/anaconda3/lib/python3.9/site-packages/sklearn/model_selection/_search.py\u001b[0m in \u001b[0;36mevaluate_candidates\u001b[0;34m(candidate_params, cv, more_results)\u001b[0m\n\u001b[1;32m    963\u001b[0m                     )\n\u001b[1;32m    964\u001b[0m \u001b[0;34m\u001b[0m\u001b[0m\n\u001b[0;32m--> 965\u001b[0;31m                 out = parallel(\n\u001b[0m\u001b[1;32m    966\u001b[0m                     delayed(_fit_and_score)(\n\u001b[1;32m    967\u001b[0m                         \u001b[0mclone\u001b[0m\u001b[0;34m(\u001b[0m\u001b[0mbase_estimator\u001b[0m\u001b[0;34m)\u001b[0m\u001b[0;34m,\u001b[0m\u001b[0;34m\u001b[0m\u001b[0;34m\u001b[0m\u001b[0m\n",
      "\u001b[0;32m/opt/anaconda3/lib/python3.9/site-packages/sklearn/utils/parallel.py\u001b[0m in \u001b[0;36m__call__\u001b[0;34m(self, iterable)\u001b[0m\n\u001b[1;32m     72\u001b[0m             \u001b[0;32mfor\u001b[0m \u001b[0mdelayed_func\u001b[0m\u001b[0;34m,\u001b[0m \u001b[0margs\u001b[0m\u001b[0;34m,\u001b[0m \u001b[0mkwargs\u001b[0m \u001b[0;32min\u001b[0m \u001b[0miterable\u001b[0m\u001b[0;34m\u001b[0m\u001b[0;34m\u001b[0m\u001b[0m\n\u001b[1;32m     73\u001b[0m         )\n\u001b[0;32m---> 74\u001b[0;31m         \u001b[0;32mreturn\u001b[0m \u001b[0msuper\u001b[0m\u001b[0;34m(\u001b[0m\u001b[0;34m)\u001b[0m\u001b[0;34m.\u001b[0m\u001b[0m__call__\u001b[0m\u001b[0;34m(\u001b[0m\u001b[0miterable_with_config\u001b[0m\u001b[0;34m)\u001b[0m\u001b[0;34m\u001b[0m\u001b[0;34m\u001b[0m\u001b[0m\n\u001b[0m\u001b[1;32m     75\u001b[0m \u001b[0;34m\u001b[0m\u001b[0m\n\u001b[1;32m     76\u001b[0m \u001b[0;34m\u001b[0m\u001b[0m\n",
      "\u001b[0;32m/opt/anaconda3/lib/python3.9/site-packages/joblib/parallel.py\u001b[0m in \u001b[0;36m__call__\u001b[0;34m(self, iterable)\u001b[0m\n\u001b[1;32m   2005\u001b[0m         \u001b[0mnext\u001b[0m\u001b[0;34m(\u001b[0m\u001b[0moutput\u001b[0m\u001b[0;34m)\u001b[0m\u001b[0;34m\u001b[0m\u001b[0;34m\u001b[0m\u001b[0m\n\u001b[1;32m   2006\u001b[0m \u001b[0;34m\u001b[0m\u001b[0m\n\u001b[0;32m-> 2007\u001b[0;31m         \u001b[0;32mreturn\u001b[0m \u001b[0moutput\u001b[0m \u001b[0;32mif\u001b[0m \u001b[0mself\u001b[0m\u001b[0;34m.\u001b[0m\u001b[0mreturn_generator\u001b[0m \u001b[0;32melse\u001b[0m \u001b[0mlist\u001b[0m\u001b[0;34m(\u001b[0m\u001b[0moutput\u001b[0m\u001b[0;34m)\u001b[0m\u001b[0;34m\u001b[0m\u001b[0;34m\u001b[0m\u001b[0m\n\u001b[0m\u001b[1;32m   2008\u001b[0m \u001b[0;34m\u001b[0m\u001b[0m\n\u001b[1;32m   2009\u001b[0m     \u001b[0;32mdef\u001b[0m \u001b[0m__repr__\u001b[0m\u001b[0;34m(\u001b[0m\u001b[0mself\u001b[0m\u001b[0;34m)\u001b[0m\u001b[0;34m:\u001b[0m\u001b[0;34m\u001b[0m\u001b[0;34m\u001b[0m\u001b[0m\n",
      "\u001b[0;32m/opt/anaconda3/lib/python3.9/site-packages/joblib/parallel.py\u001b[0m in \u001b[0;36m_get_outputs\u001b[0;34m(self, iterator, pre_dispatch)\u001b[0m\n\u001b[1;32m   1648\u001b[0m \u001b[0;34m\u001b[0m\u001b[0m\n\u001b[1;32m   1649\u001b[0m             \u001b[0;32mwith\u001b[0m \u001b[0mself\u001b[0m\u001b[0;34m.\u001b[0m\u001b[0m_backend\u001b[0m\u001b[0;34m.\u001b[0m\u001b[0mretrieval_context\u001b[0m\u001b[0;34m(\u001b[0m\u001b[0;34m)\u001b[0m\u001b[0;34m:\u001b[0m\u001b[0;34m\u001b[0m\u001b[0;34m\u001b[0m\u001b[0m\n\u001b[0;32m-> 1650\u001b[0;31m                 \u001b[0;32myield\u001b[0m \u001b[0;32mfrom\u001b[0m \u001b[0mself\u001b[0m\u001b[0;34m.\u001b[0m\u001b[0m_retrieve\u001b[0m\u001b[0;34m(\u001b[0m\u001b[0;34m)\u001b[0m\u001b[0;34m\u001b[0m\u001b[0;34m\u001b[0m\u001b[0m\n\u001b[0m\u001b[1;32m   1651\u001b[0m \u001b[0;34m\u001b[0m\u001b[0m\n\u001b[1;32m   1652\u001b[0m         \u001b[0;32mexcept\u001b[0m \u001b[0mGeneratorExit\u001b[0m\u001b[0;34m:\u001b[0m\u001b[0;34m\u001b[0m\u001b[0;34m\u001b[0m\u001b[0m\n",
      "\u001b[0;32m/opt/anaconda3/lib/python3.9/site-packages/joblib/parallel.py\u001b[0m in \u001b[0;36m_retrieve\u001b[0;34m(self)\u001b[0m\n\u001b[1;32m   1760\u001b[0m                 (self._jobs[0].get_status(\n\u001b[1;32m   1761\u001b[0m                     timeout=self.timeout) == TASK_PENDING)):\n\u001b[0;32m-> 1762\u001b[0;31m                 \u001b[0mtime\u001b[0m\u001b[0;34m.\u001b[0m\u001b[0msleep\u001b[0m\u001b[0;34m(\u001b[0m\u001b[0;36m0.01\u001b[0m\u001b[0;34m)\u001b[0m\u001b[0;34m\u001b[0m\u001b[0;34m\u001b[0m\u001b[0m\n\u001b[0m\u001b[1;32m   1763\u001b[0m                 \u001b[0;32mcontinue\u001b[0m\u001b[0;34m\u001b[0m\u001b[0;34m\u001b[0m\u001b[0m\n\u001b[1;32m   1764\u001b[0m \u001b[0;34m\u001b[0m\u001b[0m\n",
      "\u001b[0;31mKeyboardInterrupt\u001b[0m: "
     ]
    }
   ],
   "source": [
    "results = []\n",
    "\n",
    "for dataset_name, dataset in datasets.items():\n",
    "    X, Y = dataset[0], dataset[1]\n",
    "    Y = Y.ravel()\n",
    "    for partition_name, test_size in partitions.items():\n",
    "        X_train, X_test, y_train, y_test = train_test_split(X, Y, test_size=test_size)\n",
    "        for clf_name, clf_info in classifiers.items():\n",
    "            print(f'Processing: {dataset_name}, Classifier: {clf_name}, Partition: {partition_name}')\n",
    "\n",
    "            grid_search = GridSearchCV(\n",
    "                estimator=clf_info['model'],\n",
    "                param_grid=clf_info['param_grid'],\n",
    "                cv=3,\n",
    "                scoring='accuracy',\n",
    "                n_jobs=-1,\n",
    "                verbose=2,\n",
    "                return_train_score=True\n",
    "            )\n",
    "\n",
    "            grid_search.fit(X_train, y_train)\n",
    "            best_model = grid_search.best_estimator_\n",
    "\n",
    "            cv_results = grid_search.cv_results_\n",
    "            \n",
    "            #train_accuracy = accuracy_score(y_train, best_model.predict(X_train))\n",
    "            #test_accuracy = accuracy_score(y_test, best_model.predict(X_test))\n",
    "            #val_accuracy = grid_search.best_score_\n",
    "\n",
    "            avg_train_accuracy = np.mean(cv_results['mean_train_score'])\n",
    "            avg_val_accuracy = np.mean(cv_results['mean_test_score'])\n",
    "            avg_test_accuracy = np.mean(cv_results['split0_test_score'])\n",
    "\n",
    "            results.append({\n",
    "                'Dataset': dataset_name,\n",
    "                'Classifier': clf_name,\n",
    "                'Partition': partition_name,\n",
    "                'Best Hyperparameters': grid_search.best_params_,\n",
    "                'Train Accuracy (Avg)': avg_train_accuracy,\n",
    "                'Validation Accuracy (Avg)': avg_val_accuracy,\n",
    "                'Test Accuracy (Avg)': avg_test_accuracy,\n",
    "            })"
   ]
  },
  {
   "cell_type": "code",
   "execution_count": 49,
   "id": "a9bc74c3",
   "metadata": {},
   "outputs": [
    {
     "data": {
      "text/plain": [
       "{'mean_fit_time': array([0.00121236, 0.00175166, 0.00172853, 0.00213059, 0.00177439,\n",
       "        0.00190123]),\n",
       " 'std_fit_time': array([3.58859379e-04, 4.10340517e-04, 7.89697138e-05, 2.47574503e-04,\n",
       "        6.41664479e-05, 3.00959575e-04]),\n",
       " 'mean_score_time': array([0.09920828, 0.0403417 , 0.12257735, 0.05972409, 0.13399323,\n",
       "        0.04910644]),\n",
       " 'std_score_time': array([0.00368872, 0.00649639, 0.0048959 , 0.00794803, 0.01185344,\n",
       "        0.00585076]),\n",
       " 'param_n_neighbors': masked_array(data=[3, 3, 5, 5, 10, 10],\n",
       "              mask=[False, False, False, False, False, False],\n",
       "        fill_value=999999),\n",
       " 'param_weights': masked_array(data=['uniform', 'distance', 'uniform', 'distance',\n",
       "                    'uniform', 'distance'],\n",
       "              mask=[False, False, False, False, False, False],\n",
       "        fill_value='?',\n",
       "             dtype=object),\n",
       " 'params': [{'n_neighbors': 3, 'weights': 'uniform'},\n",
       "  {'n_neighbors': 3, 'weights': 'distance'},\n",
       "  {'n_neighbors': 5, 'weights': 'uniform'},\n",
       "  {'n_neighbors': 5, 'weights': 'distance'},\n",
       "  {'n_neighbors': 10, 'weights': 'uniform'},\n",
       "  {'n_neighbors': 10, 'weights': 'distance'}],\n",
       " 'split0_test_score': array([0.95802099, 0.93853073, 0.95952024, 0.94452774, 0.95952024,\n",
       "        0.94452774]),\n",
       " 'split1_test_score': array([0.95352324, 0.94152924, 0.95202399, 0.93853073, 0.95802099,\n",
       "        0.94302849]),\n",
       " 'split2_test_score': array([0.95495495, 0.95195195, 0.95945946, 0.95345345, 0.95945946,\n",
       "        0.95345345]),\n",
       " 'mean_test_score': array([0.95549973, 0.94400397, 0.95700123, 0.94550397, 0.95900023,\n",
       "        0.94700323]),\n",
       " 'std_test_score': array([0.00187617, 0.00575184, 0.00351953, 0.00613116, 0.00069287,\n",
       "        0.00460189]),\n",
       " 'rank_test_score': array([3, 6, 2, 5, 1, 4], dtype=int32),\n",
       " 'split0_train_score': array([0.96249062, 0.98349587, 0.9579895 , 0.98349587, 0.95873968,\n",
       "        0.98349587]),\n",
       " 'split1_train_score': array([0.96174044, 0.98349587, 0.96024006, 0.98349587, 0.95948987,\n",
       "        0.98349587]),\n",
       " 'split2_train_score': array([0.95877061, 0.982009  , 0.95877061, 0.982009  , 0.95877061,\n",
       "        0.982009  ]),\n",
       " 'mean_train_score': array([0.96100056, 0.98300025, 0.95900006, 0.98300025, 0.95900006,\n",
       "        0.98300025]),\n",
       " 'std_train_score': array([0.00160627, 0.00070092, 0.000933  , 0.00070092, 0.00034658,\n",
       "        0.00070092])}"
      ]
     },
     "execution_count": 49,
     "metadata": {},
     "output_type": "execute_result"
    }
   ],
   "source": [
    "cv_results"
   ]
  },
  {
   "cell_type": "code",
   "execution_count": 45,
   "id": "e72dfeb0",
   "metadata": {},
   "outputs": [
    {
     "data": {
      "text/plain": [
       "0.9635002318660489"
      ]
     },
     "execution_count": 45,
     "metadata": {},
     "output_type": "execute_result"
    }
   ],
   "source": [
    "grid_search.best_score_"
   ]
  },
  {
   "cell_type": "code",
   "execution_count": null,
   "id": "85a8deea",
   "metadata": {},
   "outputs": [],
   "source": []
  }
 ],
 "metadata": {
  "kernelspec": {
   "display_name": "Python 3 (ipykernel)",
   "language": "python",
   "name": "python3"
  },
  "language_info": {
   "codemirror_mode": {
    "name": "ipython",
    "version": 3
   },
   "file_extension": ".py",
   "mimetype": "text/x-python",
   "name": "python",
   "nbconvert_exporter": "python",
   "pygments_lexer": "ipython3",
   "version": "3.9.7"
  }
 },
 "nbformat": 4,
 "nbformat_minor": 5
}
